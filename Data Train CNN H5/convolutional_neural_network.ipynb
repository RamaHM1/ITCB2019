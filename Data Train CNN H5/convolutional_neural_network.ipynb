{
  "nbformat": 4,
  "nbformat_minor": 0,
  "metadata": {
    "colab": {
      "name": "convolutional_neural_network.ipynb",
      "provenance": [],
      "include_colab_link": true
    },
    "kernelspec": {
      "name": "python3",
      "display_name": "Python 3"
    },
    "language_info": {
      "name": "python"
    }
  },
  "cells": [
    {
      "cell_type": "markdown",
      "metadata": {
        "id": "view-in-github",
        "colab_type": "text"
      },
      "source": [
        "<a href=\"https://colab.research.google.com/github/RamaHM1/ITCB2019/blob/master/Data%20Train%20CNN%20H5/convolutional_neural_network.ipynb\" target=\"_parent\"><img src=\"https://colab.research.google.com/assets/colab-badge.svg\" alt=\"Open In Colab\"/></a>"
      ]
    },
    {
      "cell_type": "markdown",
      "source": [
        "### **Import Library**\n",
        "\n"
      ],
      "metadata": {
        "id": "huhMkmx8riv7"
      }
    },
    {
      "cell_type": "code",
      "source": [
        "import os\n",
        "import zipfile\n",
        "import cv2\n",
        "import numpy as np\n",
        "from sklearn.preprocessing import LabelEncoder\n",
        "from tensorflow.keras.models import Sequential\n",
        "from tensorflow.keras.layers import InputLayer, Dense, Conv2D, MaxPool2D, Flatten\n",
        "from tensorflow.keras.models import load_model\n",
        "from tensorflow.keras.optimizers import Adam\n",
        "import matplotlib.pyplot as plt\n",
        "from sklearn.metrics import classification_report\n",
        "\n"
      ],
      "metadata": {
        "id": "rTVyhVtZq42N"
      },
      "execution_count": 21,
      "outputs": []
    },
    {
      "cell_type": "markdown",
      "source": [
        "### **Download Dataset**"
      ],
      "metadata": {
        "id": "paSRqNn-rv-U"
      }
    },
    {
      "cell_type": "code",
      "metadata": {
        "colab": {
          "base_uri": "https://localhost:8080/"
        },
        "id": "TYG8HEb3Dkpa",
        "outputId": "55b30dea-ef5c-442b-a4cc-3674f02fbfd1"
      },
      "source": [
        "!wget --load-cookies /tmp/cookies.txt \"https://docs.google.com/uc?export=download&confirm=$(wget --quiet --save-cookies /tmp/cookies.txt --keep-session-cookies --no-check-certificate 'https://docs.google.com/uc?export=download&id=17I-kdCrpv0wZgisi4LCO2kTOlzR0ctoB' -O- | sed -rn 's/.*confirm=([0-9A-Za-z_]+).*/\\1\\n/p')&id=17I-kdCrpv0wZgisi4LCO2kTOlzR0ctoB\" -O /tmp/herbal.zip && rm -rf /tmp/cookies.txt"
      ],
      "execution_count": 22,
      "outputs": [
        {
          "output_type": "stream",
          "name": "stdout",
          "text": [
            "--2021-12-14 16:06:05--  https://docs.google.com/uc?export=download&confirm=Yjye&id=17I-kdCrpv0wZgisi4LCO2kTOlzR0ctoB\n",
            "Resolving docs.google.com (docs.google.com)... 142.250.152.138, 142.250.152.139, 142.250.152.102, ...\n",
            "Connecting to docs.google.com (docs.google.com)|142.250.152.138|:443... connected.\n",
            "HTTP request sent, awaiting response... 302 Moved Temporarily\n",
            "Location: https://doc-04-4s-docs.googleusercontent.com/docs/securesc/ud9i0s4mbe8ef6he76ursvlhhhctcb13/hdu64me8q5f56avtqp225dh0a81cdr1n/1639497900000/15542249348961723767/09763829305062765363Z/17I-kdCrpv0wZgisi4LCO2kTOlzR0ctoB?e=download [following]\n",
            "--2021-12-14 16:06:05--  https://doc-04-4s-docs.googleusercontent.com/docs/securesc/ud9i0s4mbe8ef6he76ursvlhhhctcb13/hdu64me8q5f56avtqp225dh0a81cdr1n/1639497900000/15542249348961723767/09763829305062765363Z/17I-kdCrpv0wZgisi4LCO2kTOlzR0ctoB?e=download\n",
            "Resolving doc-04-4s-docs.googleusercontent.com (doc-04-4s-docs.googleusercontent.com)... 142.250.152.132, 2607:f8b0:4001:c56::84\n",
            "Connecting to doc-04-4s-docs.googleusercontent.com (doc-04-4s-docs.googleusercontent.com)|142.250.152.132|:443... connected.\n",
            "HTTP request sent, awaiting response... 302 Found\n",
            "Location: https://docs.google.com/nonceSigner?nonce=8tf709k84molq&continue=https://doc-04-4s-docs.googleusercontent.com/docs/securesc/ud9i0s4mbe8ef6he76ursvlhhhctcb13/hdu64me8q5f56avtqp225dh0a81cdr1n/1639497900000/15542249348961723767/09763829305062765363Z/17I-kdCrpv0wZgisi4LCO2kTOlzR0ctoB?e%3Ddownload&hash=ekks72o7ncm4c08n34sb9funkebtmgm2 [following]\n",
            "--2021-12-14 16:06:05--  https://docs.google.com/nonceSigner?nonce=8tf709k84molq&continue=https://doc-04-4s-docs.googleusercontent.com/docs/securesc/ud9i0s4mbe8ef6he76ursvlhhhctcb13/hdu64me8q5f56avtqp225dh0a81cdr1n/1639497900000/15542249348961723767/09763829305062765363Z/17I-kdCrpv0wZgisi4LCO2kTOlzR0ctoB?e%3Ddownload&hash=ekks72o7ncm4c08n34sb9funkebtmgm2\n",
            "Connecting to docs.google.com (docs.google.com)|142.250.152.138|:443... connected.\n",
            "HTTP request sent, awaiting response... 302 Found\n",
            "Location: https://doc-04-4s-docs.googleusercontent.com/docs/securesc/ud9i0s4mbe8ef6he76ursvlhhhctcb13/hdu64me8q5f56avtqp225dh0a81cdr1n/1639497900000/15542249348961723767/09763829305062765363Z/17I-kdCrpv0wZgisi4LCO2kTOlzR0ctoB?e=download&nonce=8tf709k84molq&user=09763829305062765363Z&hash=f6au4s03g1lthkfesp29d66f2g1da2ld [following]\n",
            "--2021-12-14 16:06:05--  https://doc-04-4s-docs.googleusercontent.com/docs/securesc/ud9i0s4mbe8ef6he76ursvlhhhctcb13/hdu64me8q5f56avtqp225dh0a81cdr1n/1639497900000/15542249348961723767/09763829305062765363Z/17I-kdCrpv0wZgisi4LCO2kTOlzR0ctoB?e=download&nonce=8tf709k84molq&user=09763829305062765363Z&hash=f6au4s03g1lthkfesp29d66f2g1da2ld\n",
            "Connecting to doc-04-4s-docs.googleusercontent.com (doc-04-4s-docs.googleusercontent.com)|142.250.152.132|:443... connected.\n",
            "HTTP request sent, awaiting response... 200 OK\n",
            "Length: 449741837 (429M) [application/x-zip-compressed]\n",
            "Saving to: ‘/tmp/herbal.zip’\n",
            "\n",
            "/tmp/herbal.zip     100%[===================>] 428.91M   155MB/s    in 2.8s    \n",
            "\n",
            "2021-12-14 16:06:08 (155 MB/s) - ‘/tmp/herbal.zip’ saved [449741837/449741837]\n",
            "\n"
          ]
        }
      ]
    },
    {
      "cell_type": "markdown",
      "source": [
        "### **Extrack Dataset**"
      ],
      "metadata": {
        "id": "XjVhQYArr2Cd"
      }
    },
    {
      "cell_type": "code",
      "metadata": {
        "id": "4rtnNrFsEDIf"
      },
      "source": [
        "local_zip = '/tmp/herbal.zip'\n",
        "zip_ref = zipfile.ZipFile(local_zip, 'r')\n",
        "zip_ref.extractall('/tmp')\n",
        "zip_ref.close()"
      ],
      "execution_count": 25,
      "outputs": []
    },
    {
      "cell_type": "markdown",
      "source": [
        "### **Definisi Path Dataset**"
      ],
      "metadata": {
        "id": "BfOLRP-Zr6Sc"
      }
    },
    {
      "cell_type": "code",
      "metadata": {
        "id": "y9L_1kqnEEjc"
      },
      "source": [
        "base_dir = '/tmp/herbal'\n",
        "\n",
        "train_dir = os.path.join(base_dir, 'train')\n",
        "validation_dir = os.path.join(base_dir, 'validation')"
      ],
      "execution_count": 26,
      "outputs": []
    },
    {
      "cell_type": "markdown",
      "source": [
        "### **Mengumpulkan Data Train**"
      ],
      "metadata": {
        "id": "wP0J_y7EsQUl"
      }
    },
    {
      "cell_type": "code",
      "metadata": {
        "id": "9gc0BCSREF0M"
      },
      "source": [
        "train_data = []\n",
        "train_label = []\n",
        "for r, d, f in os.walk(train_dir):\n",
        "    for file in f:\n",
        "        if \".jpg\" in file:\n",
        "            imagePath = os.path.join(r, file)\n",
        "            image = cv2.imread(imagePath)\n",
        "            image = cv2.resize(image, (150,150))\n",
        "            train_data.append(image)\n",
        "            label = imagePath.split(os.path.sep)[-2]\n",
        "            train_label.append(label)\n",
        "\n",
        "train_data = np.array(train_data)\n",
        "train_label = np.array(train_label)"
      ],
      "execution_count": 27,
      "outputs": []
    },
    {
      "cell_type": "markdown",
      "source": [
        "### **Mengumpulkan Data Validasi**"
      ],
      "metadata": {
        "id": "H3hmXaFKtCEs"
      }
    },
    {
      "cell_type": "code",
      "metadata": {
        "id": "FuoKFhhVEG_O"
      },
      "source": [
        "val_data = []\n",
        "val_label = []\n",
        "for r, d, f in os.walk(validation_dir):\n",
        "    for file in f:\n",
        "        if \".jpg\" in file:\n",
        "            imagePath = os.path.join(r, file)\n",
        "            image = cv2.imread(imagePath)\n",
        "            image = cv2.resize(image, (150,150))\n",
        "            val_data.append(image)\n",
        "            label = imagePath.split(os.path.sep)[-2]\n",
        "            val_label.append(label)\n",
        "\n",
        "val_data = np.array(val_data)\n",
        "val_label = np.array(val_label)"
      ],
      "execution_count": 28,
      "outputs": []
    },
    {
      "cell_type": "markdown",
      "source": [
        "### **Preprocessing Data**"
      ],
      "metadata": {
        "id": "qRkOiSAatN98"
      }
    },
    {
      "cell_type": "code",
      "metadata": {
        "colab": {
          "base_uri": "https://localhost:8080/"
        },
        "id": "m5VhnvtrEI1I",
        "outputId": "4d0c93b5-9dd7-4cfe-c071-7a4d13f5d49d"
      },
      "source": [
        "# Tampilkan shape dari data train dan data validation\n",
        "print(\"Train Data = \", train_data.shape)\n",
        "print(\"Train Label = \", train_label.shape)\n",
        "print(\"Validation Data = \", val_data.shape)\n",
        "print(\"Validation Label = \", val_label.shape)"
      ],
      "execution_count": 29,
      "outputs": [
        {
          "output_type": "stream",
          "name": "stdout",
          "text": [
            "Train Data =  (70, 150, 150, 3)\n",
            "Train Label =  (70,)\n",
            "Validation Data =  (30, 150, 150, 3)\n",
            "Validation Label =  (30,)\n"
          ]
        }
      ]
    },
    {
      "cell_type": "code",
      "metadata": {
        "colab": {
          "base_uri": "https://localhost:8080/"
        },
        "id": "q1LVp6dCENne",
        "outputId": "30dc8987-1204-4e01-abd5-83eb21d4e93b"
      },
      "source": [
        "# Normalisasi dataset\n",
        "print(\"Data sebelum di-normalisasi \", train_data[0][0][0])\n",
        "\n",
        "x_train = train_data.astype('float32') / 255.0\n",
        "x_val = val_data.astype('float32') / 255.0\n",
        "print(\"Data setelah di-normalisasi \", x_train[0][0][0])"
      ],
      "execution_count": 30,
      "outputs": [
        {
          "output_type": "stream",
          "name": "stdout",
          "text": [
            "Data sebelum di-normalisasi  [147 160 176]\n",
            "Data setelah di-normalisasi  [0.5764706 0.627451  0.6901961]\n"
          ]
        }
      ]
    },
    {
      "cell_type": "code",
      "metadata": {
        "colab": {
          "base_uri": "https://localhost:8080/"
        },
        "id": "tc7FivC6EPhm",
        "outputId": "7b4f9826-9e81-4fb4-f6c8-a2bddc5ec984"
      },
      "source": [
        "# Transformasi label encoder\n",
        "print(\"Label sebelum di-encoder \", train_label[30:40])\n",
        "\n",
        "lb = LabelEncoder()\n",
        "y_train = lb.fit_transform(train_label)\n",
        "y_val = lb.fit_transform(val_label)\n",
        "\n",
        "print(\"Label setelah di-encoder \", y_train[30:40])"
      ],
      "execution_count": 31,
      "outputs": [
        {
          "output_type": "stream",
          "name": "stdout",
          "text": [
            "Label sebelum di-encoder  ['daun_jambu' 'daun_jambu' 'daun_jambu' 'daun_jambu' 'daun_jambu'\n",
            " 'daun_jeruk_nipis' 'daun_jeruk_nipis' 'daun_jeruk_nipis'\n",
            " 'daun_jeruk_nipis' 'daun_jeruk_nipis']\n",
            "Label setelah di-encoder  [0 0 0 0 0 1 1 1 1 1]\n"
          ]
        }
      ]
    },
    {
      "cell_type": "markdown",
      "metadata": {
        "id": "4jVWbOhOEzQJ"
      },
      "source": [
        "### **Definisi Model**"
      ]
    },
    {
      "cell_type": "code",
      "metadata": {
        "id": "rDwzxacpE1ei"
      },
      "source": [
        "# Feature Extraction Layer\n",
        "model = Sequential()\n",
        "\n",
        "model.add(InputLayer(input_shape=[150,150,3]))\n",
        "model.add(Conv2D(filters=16, kernel_size=3, strides=1, padding='same', activation='relu'))\n",
        "model.add(MaxPool2D(pool_size=2, padding='same'))\n",
        "model.add(Conv2D(filters=32, kernel_size=3, strides=1, padding='same', activation='relu'))\n",
        "model.add(MaxPool2D(pool_size=2, padding='same'))\n",
        "model.add(Conv2D(filters=64, kernel_size=3, strides=1, padding='same', activation='relu'))\n",
        "model.add(MaxPool2D(pool_size=2, padding='same'))\n",
        "model.add(Flatten())"
      ],
      "execution_count": 32,
      "outputs": []
    },
    {
      "cell_type": "code",
      "metadata": {
        "id": "Sud1AUF0E2k8"
      },
      "source": [
        "# Fully Connected Layer\n",
        "model.add(Dense(128, activation='relu'))\n",
        "model.add(Dense(1, activation='sigmoid'))"
      ],
      "execution_count": 33,
      "outputs": []
    },
    {
      "cell_type": "code",
      "metadata": {
        "colab": {
          "base_uri": "https://localhost:8080/"
        },
        "id": "XW-KE9ePE466",
        "outputId": "03ea8639-0227-4a47-fd5a-6022c25dadf0"
      },
      "source": [
        "# Print model summary\n",
        "print(model.summary())"
      ],
      "execution_count": 34,
      "outputs": [
        {
          "output_type": "stream",
          "name": "stdout",
          "text": [
            "Model: \"sequential_1\"\n",
            "_________________________________________________________________\n",
            " Layer (type)                Output Shape              Param #   \n",
            "=================================================================\n",
            " conv2d_3 (Conv2D)           (None, 150, 150, 16)      448       \n",
            "                                                                 \n",
            " max_pooling2d_3 (MaxPooling  (None, 75, 75, 16)       0         \n",
            " 2D)                                                             \n",
            "                                                                 \n",
            " conv2d_4 (Conv2D)           (None, 75, 75, 32)        4640      \n",
            "                                                                 \n",
            " max_pooling2d_4 (MaxPooling  (None, 38, 38, 32)       0         \n",
            " 2D)                                                             \n",
            "                                                                 \n",
            " conv2d_5 (Conv2D)           (None, 38, 38, 64)        18496     \n",
            "                                                                 \n",
            " max_pooling2d_5 (MaxPooling  (None, 19, 19, 64)       0         \n",
            " 2D)                                                             \n",
            "                                                                 \n",
            " flatten_1 (Flatten)         (None, 23104)             0         \n",
            "                                                                 \n",
            " dense_2 (Dense)             (None, 128)               2957440   \n",
            "                                                                 \n",
            " dense_3 (Dense)             (None, 1)                 129       \n",
            "                                                                 \n",
            "=================================================================\n",
            "Total params: 2,981,153\n",
            "Trainable params: 2,981,153\n",
            "Non-trainable params: 0\n",
            "_________________________________________________________________\n",
            "None\n"
          ]
        }
      ]
    },
    {
      "cell_type": "code",
      "metadata": {
        "colab": {
          "base_uri": "https://localhost:8080/"
        },
        "id": "Tais64D7E5Zo",
        "outputId": "255971bb-030f-48bc-d572-ed72a86e9717"
      },
      "source": [
        "# Compile model\n",
        "\n",
        "model.compile(optimizer=Adam(lr=0.001), \n",
        "              loss='binary_crossentropy', \n",
        "              metrics=['acc'])"
      ],
      "execution_count": 35,
      "outputs": [
        {
          "output_type": "stream",
          "name": "stderr",
          "text": [
            "/usr/local/lib/python3.7/dist-packages/keras/optimizer_v2/adam.py:105: UserWarning: The `lr` argument is deprecated, use `learning_rate` instead.\n",
            "  super(Adam, self).__init__(name, **kwargs)\n"
          ]
        }
      ]
    },
    {
      "cell_type": "markdown",
      "metadata": {
        "id": "NTNBH19iE8kt"
      },
      "source": [
        "<h3>Training Model</h3>"
      ]
    },
    {
      "cell_type": "code",
      "metadata": {
        "colab": {
          "base_uri": "https://localhost:8080/"
        },
        "id": "p4Vr8dyvE6pM",
        "outputId": "2374720d-feff-4d1e-9d66-6eaa7a84d469"
      },
      "source": [
        "H = model.fit(x_train, y_train, batch_size=20, epochs=15, validation_data=(x_val, y_val))"
      ],
      "execution_count": 36,
      "outputs": [
        {
          "output_type": "stream",
          "name": "stdout",
          "text": [
            "Epoch 1/15\n",
            "4/4 [==============================] - 3s 491ms/step - loss: 1.0060 - acc: 0.5143 - val_loss: 0.7141 - val_acc: 0.5000\n",
            "Epoch 2/15\n",
            "4/4 [==============================] - 2s 435ms/step - loss: 0.7162 - acc: 0.3857 - val_loss: 0.6765 - val_acc: 0.5000\n",
            "Epoch 3/15\n",
            "4/4 [==============================] - 2s 427ms/step - loss: 0.6703 - acc: 0.7714 - val_loss: 0.6696 - val_acc: 0.7667\n",
            "Epoch 4/15\n",
            "4/4 [==============================] - 2s 436ms/step - loss: 0.6533 - acc: 0.8000 - val_loss: 0.6461 - val_acc: 0.7000\n",
            "Epoch 5/15\n",
            "4/4 [==============================] - 2s 435ms/step - loss: 0.6071 - acc: 0.9286 - val_loss: 0.6010 - val_acc: 0.8667\n",
            "Epoch 6/15\n",
            "4/4 [==============================] - 2s 433ms/step - loss: 0.5392 - acc: 0.8714 - val_loss: 0.5260 - val_acc: 0.8333\n",
            "Epoch 7/15\n",
            "4/4 [==============================] - 2s 441ms/step - loss: 0.4603 - acc: 0.8571 - val_loss: 0.4980 - val_acc: 0.7000\n",
            "Epoch 8/15\n",
            "4/4 [==============================] - 2s 432ms/step - loss: 0.3511 - acc: 0.9000 - val_loss: 0.3988 - val_acc: 0.8333\n",
            "Epoch 9/15\n",
            "4/4 [==============================] - 2s 433ms/step - loss: 0.2702 - acc: 0.9286 - val_loss: 0.3920 - val_acc: 0.8000\n",
            "Epoch 10/15\n",
            "4/4 [==============================] - 2s 435ms/step - loss: 0.2022 - acc: 0.9286 - val_loss: 0.4457 - val_acc: 0.7667\n",
            "Epoch 11/15\n",
            "4/4 [==============================] - 2s 437ms/step - loss: 0.1555 - acc: 0.9571 - val_loss: 0.4908 - val_acc: 0.8667\n",
            "Epoch 12/15\n",
            "4/4 [==============================] - 2s 441ms/step - loss: 0.1839 - acc: 0.9286 - val_loss: 0.5124 - val_acc: 0.7667\n",
            "Epoch 13/15\n",
            "4/4 [==============================] - 2s 430ms/step - loss: 0.2610 - acc: 0.9286 - val_loss: 0.4698 - val_acc: 0.8000\n",
            "Epoch 14/15\n",
            "4/4 [==============================] - 2s 436ms/step - loss: 0.1495 - acc: 0.9571 - val_loss: 0.5029 - val_acc: 0.7667\n",
            "Epoch 15/15\n",
            "4/4 [==============================] - 2s 432ms/step - loss: 0.1508 - acc: 0.9429 - val_loss: 0.4957 - val_acc: 0.8333\n"
          ]
        }
      ]
    },
    {
      "cell_type": "markdown",
      "metadata": {
        "id": "HuxjW35RFCZ6"
      },
      "source": [
        "### **Evaluasi Model**"
      ]
    },
    {
      "cell_type": "code",
      "metadata": {
        "colab": {
          "base_uri": "https://localhost:8080/",
          "height": 298
        },
        "id": "1AM3ms3zE_AU",
        "outputId": "d00fd90d-b73d-4449-b982-83f8fb3c4039"
      },
      "source": [
        "%matplotlib inline\n",
        "\n",
        "plt.style.use(\"ggplot\")\n",
        "plt.figure()\n",
        "plt.plot(np.arange(0, 15), H.history[\"loss\"], label=\"train_loss\")\n",
        "plt.plot(np.arange(0, 15), H.history[\"val_loss\"], label=\"val_loss\")\n",
        "plt.title(\"Loss Plot\")\n",
        "plt.xlabel(\"Epoch #\")\n",
        "plt.ylabel(\"Loss\")\n",
        "plt.legend()\n",
        "plt.show()"
      ],
      "execution_count": 37,
      "outputs": [
        {
          "output_type": "display_data",
          "data": {
            "image/png": "[encoded data removed]",
            "text/plain": [
              "<Figure size 432x288 with 1 Axes>"
            ]
          },
          "metadata": {}
        }
      ]
    },
    {
      "cell_type": "code",
      "metadata": {
        "colab": {
          "base_uri": "https://localhost:8080/",
          "height": 298
        },
        "id": "q1SJWudcFEDL",
        "outputId": "6aa36a3b-f6f4-4c25-ee9e-ab7f2ebd0e4d"
      },
      "source": [
        "plt.style.use(\"ggplot\")\n",
        "plt.figure()\n",
        "plt.plot(np.arange(0, 15), H.history[\"acc\"], label=\"train_acc\")\n",
        "plt.plot(np.arange(0, 15), H.history[\"val_acc\"], label=\"val_acc\")\n",
        "plt.title(\"Accuracy Plot\")\n",
        "plt.xlabel(\"Epoch #\")\n",
        "plt.ylabel(\"Acc\")\n",
        "plt.legend()\n",
        "plt.show()"
      ],
      "execution_count": 38,
      "outputs": [
        {
          "output_type": "display_data",
          "data": {
            "image/png": "[encoded data removed]",
            "text/plain": [
              "<Figure size 432x288 with 1 Axes>"
            ]
          },
          "metadata": {}
        }
      ]
    },
    {
      "cell_type": "code",
      "metadata": {
        "colab": {
          "base_uri": "https://localhost:8080/"
        },
        "id": "H_8mB3igFG-x",
        "outputId": "bf90a288-8053-46c1-c496-636b3ddc6e95"
      },
      "source": [
        "pred = model.predict(x_val)\n",
        "labels = (pred > 0.5).astype(np.int)\n",
        "\n",
        "print(classification_report(y_val, labels))"
      ],
      "execution_count": 39,
      "outputs": [
        {
          "output_type": "stream",
          "name": "stdout",
          "text": [
            "              precision    recall  f1-score   support\n",
            "\n",
            "           0       0.92      0.73      0.81        15\n",
            "           1       0.78      0.93      0.85        15\n",
            "\n",
            "    accuracy                           0.83        30\n",
            "   macro avg       0.85      0.83      0.83        30\n",
            "weighted avg       0.85      0.83      0.83        30\n",
            "\n"
          ]
        }
      ]
    },
    {
      "cell_type": "markdown",
      "source": [
        "### **Save Model Data Ke H5**"
      ],
      "metadata": {
        "id": "DvaiN4MNtgNk"
      }
    },
    {
      "cell_type": "code",
      "source": [
        "\n",
        "model.save('/tmp/Model.h5')\n",
        "print('Model Saved!')\n",
        "\n",
        "savedModel=load_model('/tmp/Model.h5')\n",
        "savedModel.summary()"
      ],
      "metadata": {
        "colab": {
          "base_uri": "https://localhost:8080/"
        },
        "id": "7vY-df8ip-uG",
        "outputId": "91a61e05-e0ff-4325-a969-4de4aa245de7"
      },
      "execution_count": 41,
      "outputs": [
        {
          "output_type": "stream",
          "name": "stdout",
          "text": [
            "Model Saved!\n",
            "Model: \"sequential_1\"\n",
            "_________________________________________________________________\n",
            " Layer (type)                Output Shape              Param #   \n",
            "=================================================================\n",
            " conv2d_3 (Conv2D)           (None, 150, 150, 16)      448       \n",
            "                                                                 \n",
            " max_pooling2d_3 (MaxPooling  (None, 75, 75, 16)       0         \n",
            " 2D)                                                             \n",
            "                                                                 \n",
            " conv2d_4 (Conv2D)           (None, 75, 75, 32)        4640      \n",
            "                                                                 \n",
            " max_pooling2d_4 (MaxPooling  (None, 38, 38, 32)       0         \n",
            " 2D)                                                             \n",
            "                                                                 \n",
            " conv2d_5 (Conv2D)           (None, 38, 38, 64)        18496     \n",
            "                                                                 \n",
            " max_pooling2d_5 (MaxPooling  (None, 19, 19, 64)       0         \n",
            " 2D)                                                             \n",
            "                                                                 \n",
            " flatten_1 (Flatten)         (None, 23104)             0         \n",
            "                                                                 \n",
            " dense_2 (Dense)             (None, 128)               2957440   \n",
            "                                                                 \n",
            " dense_3 (Dense)             (None, 1)                 129       \n",
            "                                                                 \n",
            "=================================================================\n",
            "Total params: 2,981,153\n",
            "Trainable params: 2,981,153\n",
            "Non-trainable params: 0\n",
            "_________________________________________________________________\n"
          ]
        }
      ]
    }
  ]
}